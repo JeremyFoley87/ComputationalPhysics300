{
 "cells": [
  {
   "cell_type": "code",
   "execution_count": 1,
   "metadata": {},
   "outputs": [
    {
     "name": "stdout",
     "output_type": "stream",
     "text": [
      "[1] [6]\n"
     ]
    }
   ],
   "source": [
    "## Jeremy Foley Lecture 15.5 ##\n",
    "\n",
    "import numpy as np\n",
    "\n",
    "a=np.random.randint(1,7,1)\n",
    "b=np.random.randint(1,7,1)\n",
    "\n",
    "print(a,b)"
   ]
  },
  {
   "cell_type": "code",
   "execution_count": 2,
   "metadata": {},
   "outputs": [
    {
     "name": "stdout",
     "output_type": "stream",
     "text": [
      "27554\n",
      "0.027554\n"
     ]
    }
   ],
   "source": [
    "import numpy as np\n",
    "\n",
    "#number of rolls\n",
    "n = 1000000\n",
    "\n",
    "Double_Six_Rolls = 0 #empty list\n",
    "\n",
    "for i in range(n):\n",
    "    a=np.random.randint(1,7,1)\n",
    "    b=np.random.randint(1,7,1)\n",
    "    if a == 6 and b == 6:\n",
    "        Double_Six_Rolls += 1 #adds number to list\n",
    "\n",
    "#probability(n1/n0)\n",
    "probability = (Double_Six_Rolls/n)\n",
    "\n",
    "print(Double_Six_Rolls)\n",
    "print(probability)"
   ]
  },
  {
   "cell_type": "code",
   "execution_count": 6,
   "metadata": {},
   "outputs": [
    {
     "data": {
      "image/png": "[encoded data removed]",
      "text/plain": [
       "<Figure size 432x288 with 1 Axes>"
      ]
     },
     "metadata": {
      "needs_background": "light"
     },
     "output_type": "display_data"
    },
    {
     "data": {
      "image/png": "[encoded data removed]",
      "text/plain": [
       "<Figure size 432x288 with 1 Axes>"
      ]
     },
     "metadata": {
      "needs_background": "light"
     },
     "output_type": "display_data"
    }
   ],
   "source": [
    "import matplotlib.pyplot as plt\n",
    "\n",
    "N = 350\n",
    "a = 4743\n",
    "c = 5.5**(1/3)\n",
    "m = 10\n",
    "x = 1\n",
    "results = []\n",
    "\n",
    "for i in range(N):      \n",
    "    x = (a*x+c)%m\n",
    "    results.append(x - 5)\n",
    "plt.plot(results,\"o\")\n",
    "plt.show()\n",
    "\n",
    "plt.hist(results)\n",
    "plt.show()"
   ]
  },
  {
   "cell_type": "markdown",
   "metadata": {},
   "source": [
    "Homework from lecture 14.4"
   ]
  },
  {
   "cell_type": "code",
   "execution_count": 4,
   "metadata": {},
   "outputs": [
    {
     "data": {
      "text/html": [
       "<div id=\"glowscript\" class=\"glowscript\"></div>"
      ],
      "text/plain": [
       "<IPython.core.display.HTML object>"
      ]
     },
     "metadata": {},
     "output_type": "display_data"
    },
    {
     "data": {
      "application/javascript": [
       "if (typeof Jupyter !== \"undefined\") { window.__context = { glowscript_container: $(\"#glowscript\").removeAttr(\"id\")};}else{ element.textContent = ' ';}"
      ],
      "text/plain": [
       "<IPython.core.display.Javascript object>"
      ]
     },
     "metadata": {},
     "output_type": "display_data"
    },
    {
     "data": {
      "application/javascript": [
       "if (typeof Jupyter !== \"undefined\") {require.undef(\"nbextensions/vpython_libraries/glow.min\");}else{element.textContent = ' ';}"
      ],
      "text/plain": [
       "<IPython.core.display.Javascript object>"
      ]
     },
     "metadata": {},
     "output_type": "display_data"
    },
    {
     "data": {
      "application/javascript": [
       "if (typeof Jupyter !== \"undefined\") {require.undef(\"nbextensions/vpython_libraries/glowcomm\");}else{element.textContent = ' ';}"
      ],
      "text/plain": [
       "<IPython.core.display.Javascript object>"
      ]
     },
     "metadata": {},
     "output_type": "display_data"
    },
    {
     "data": {
      "application/javascript": [
       "if (typeof Jupyter !== \"undefined\") {require.undef(\"nbextensions/vpython_libraries/jquery-ui.custom.min\");}else{element.textContent = ' ';}"
      ],
      "text/plain": [
       "<IPython.core.display.Javascript object>"
      ]
     },
     "metadata": {},
     "output_type": "display_data"
    },
    {
     "data": {
      "application/javascript": [
       "if (typeof Jupyter !== \"undefined\") {require([\"nbextensions/vpython_libraries/glow.min\"], function(){console.log(\"GLOW LOADED\");});}else{element.textContent = ' ';}"
      ],
      "text/plain": [
       "<IPython.core.display.Javascript object>"
      ]
     },
     "metadata": {},
     "output_type": "display_data"
    },
    {
     "data": {
      "application/javascript": [
       "if (typeof Jupyter !== \"undefined\") {require([\"nbextensions/vpython_libraries/glowcomm\"], function(){console.log(\"GLOWCOMM LOADED\");});}else{element.textContent = ' ';}"
      ],
      "text/plain": [
       "<IPython.core.display.Javascript object>"
      ]
     },
     "metadata": {},
     "output_type": "display_data"
    },
    {
     "data": {
      "application/javascript": [
       "if (typeof Jupyter !== \"undefined\") {require([\"nbextensions/vpython_libraries/jquery-ui.custom.min\"], function(){console.log(\"JQUERY LOADED\");});}else{element.textContent = ' ';}"
      ],
      "text/plain": [
       "<IPython.core.display.Javascript object>"
      ]
     },
     "metadata": {},
     "output_type": "display_data"
    }
   ],
   "source": [
    "import numpy as np\n",
    "from vpython import *\n",
    "import random as random\n",
    "\n",
    "\n",
    "ball = sphere(pos = vector(0,0,0),make_trail = True)\n",
    "r = vector(1,1,0)\n",
    "\n",
    "for i in range(1000):\n",
    "    rate(30)\n",
    "    ball.pos = r\n",
    "    mv = random.choice((vector(1,0,0),vector(0,1,0),vector(0,0,1),vector(-1,0,0),vector(0,-1,0),vector(0,0,-1)))\n",
    "    w = r + mv\n",
    "    r = w"
   ]
  },
  {
   "cell_type": "code",
   "execution_count": 5,
   "metadata": {},
   "outputs": [
    {
     "data": {
      "image/png": "[encoded data removed]",
      "text/plain": [
       "<Figure size 432x288 with 1 Axes>"
      ]
     },
     "metadata": {
      "needs_background": "light"
     },
     "output_type": "display_data"
    }
   ],
   "source": [
    "# To generate the exponential distribution from uniform distribution\n",
    "import numpy as np\n",
    "import matplotlib.pyplot as plt\n",
    "\n",
    "tau = 3.053*60\n",
    "\n",
    "N_atom = 1000   #1000 Tl atoms\n",
    "N_time = 1000   #1000 seconds\n",
    "mu = np.log(2)/tau\n",
    "N_Pb = np.zeros([N_time-1])  #the array to store the number of decayed atoms in each time step \n",
    "N_Tl = N_atom * np.ones([N_time-1])  #the array to store the number of decayed atoms in each time step \n",
    "\n",
    "for i in range(N_atom):    \n",
    "    z0 = np.random.random()\n",
    "    x0 = int(-np.log(1-z0)/mu) #the time to decay from random number\n",
    "    if x0<N_time:     \n",
    "        N_Pb[x0:] += 1  #after decay, we need to count 1 from now on\n",
    "        N_Tl[x0:] -= 1  #after decay, we need to count 1 from now on\n",
    "        \n",
    "plt.plot(N_Tl, label='Tl')\n",
    "plt.plot(N_Pb, label='Pb')\n",
    "plt.xlabel(\"Time (s)\")\n",
    "plt.ylabel(\"Number of atoms\")\n",
    "\n",
    "plt.legend()\n",
    "plt.show()"
   ]
  }
 ],
 "metadata": {
  "kernelspec": {
   "display_name": "Python 3",
   "language": "python",
   "name": "python3"
  },
  "language_info": {
   "codemirror_mode": {
    "name": "ipython",
    "version": 3
   },
   "file_extension": ".py",
   "mimetype": "text/x-python",
   "name": "python",
   "nbconvert_exporter": "python",
   "pygments_lexer": "ipython3",
   "version": "3.7.3"
  }
 },
 "nbformat": 4,
 "nbformat_minor": 2
}
