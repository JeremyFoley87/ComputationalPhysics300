{
 "cells": [
  {
   "cell_type": "code",
   "execution_count": 78,
   "metadata": {},
   "outputs": [],
   "source": [
    "## Jeremy Foley Hw#4 ##\n",
    "\n",
    "##Importing numpy for exp function and for linspace##\n",
    "import numpy as np\n",
    "\n",
    "##Code for the rectangle rule of calculating integrals##\n",
    "def rectangle(start,end,parts):\n",
    "    f = lambda x: np.exp(-x**2) #This can be any function##\n",
    "    \n",
    "    deltax = (end - start) / parts\n",
    "    resultx = np.linspace(start, end, parts + 1)\n",
    "    resulty = f(resultx)\n",
    "    \n",
    "    area = np.empty([parts],float) ##Empty array to hold values for area##\n",
    "    \n",
    "    for i in range(parts):\n",
    "        area[i] = resulty[i] * deltax \n",
    "        \n",
    "    return(sum(area))\n",
    "\n",
    "##Code for the trapezoid rule for calculating integrals##\n",
    "def trapezoid(start,end,parts):\n",
    "    f = lambda x: np.exp(-x**2)\n",
    "    \n",
    "    deltax = (end - start) / parts\n",
    "    resultx = np.linspace(start, end, parts+1)\n",
    "    resulty = f(resultx)\n",
    "    \n",
    "    area = np.empty([parts],float)\n",
    "##For this method we find the height of the function at the left and right endpoints of the divison then take an adverage of the two##\n",
    "    for i in range(parts):\n",
    "        area[i] = (resulty[i] + resulty[i+1]) * deltax/2\n",
    "        \n",
    "    return(sum(area))\n",
    "\n",
    "##Code for the Simpson's rule for calculating integrals##\n",
    "def simpson(start,end,parts):\n",
    "    f = lambda x: np.exp(-x**2)\n",
    "    \n",
    "    deltax = (end - start) / parts\n",
    "    resultx = np.linspace(start, end, parts + 1)\n",
    "    resulty = f(resultx)\n",
    "    \n",
    "    area = np.empty([parts],float)\n",
    "    ##Simpson's rule uses approximations of quadratic equations to define the integral##\n",
    "    ##From the notes we use 1/3 for the beginning and end, 2/3 for the even, and 4/3 for the odd##\n",
    "  \n",
    "    for i in range(parts):\n",
    "        if i == 0 or i == parts:\n",
    "            area[i] = 1/3 * resulty[i] * deltax\n",
    "        elif i % 2 == 0:\n",
    "            area[i] = 2/3 * resulty[i] * deltax\n",
    "        elif i % 2 != 0:\n",
    "            area[i] = 4/3 * resulty[i] * deltax\n",
    "        \n",
    "    return(sum(area))"
   ]
  },
  {
   "cell_type": "code",
   "execution_count": 79,
   "metadata": {},
   "outputs": [
    {
     "data": {
      "text/plain": [
       "0.887707162589475"
      ]
     },
     "execution_count": 79,
     "metadata": {},
     "output_type": "execute_result"
    }
   ],
   "source": [
    "rectangle(0,3,1000)"
   ]
  },
  {
   "cell_type": "code",
   "execution_count": 80,
   "metadata": {},
   "outputs": [
    {
     "data": {
      "text/plain": [
       "0.8862072927500886"
      ]
     },
     "execution_count": 80,
     "metadata": {},
     "output_type": "execute_result"
    }
   ],
   "source": [
    "trapezoid(0,3,100)"
   ]
  },
  {
   "cell_type": "code",
   "execution_count": 81,
   "metadata": {},
   "outputs": [
    {
     "data": {
      "text/plain": [
       "0.8862011187532184"
      ]
     },
     "execution_count": 81,
     "metadata": {},
     "output_type": "execute_result"
    }
   ],
   "source": [
    "simpson(0,3,20)"
   ]
  },
  {
   "cell_type": "code",
   "execution_count": 82,
   "metadata": {},
   "outputs": [],
   "source": [
    "import numpy as np\n",
    "\n",
    "##Copy and paste the above calculations with different functions##\n",
    "def rectangle(start,end,parts):\n",
    "    f = lambda x: ((x**2)-x+1)\n",
    "    \n",
    "    deltax = (end - start) / parts\n",
    "    resultx = np.linspace(start, end, parts + 1)\n",
    "    resulty = f(resultx)\n",
    "    \n",
    "    area = np.empty([parts],float) \n",
    "    \n",
    "    for i in range(parts):\n",
    "        area[i] = resulty[i] * deltax \n",
    "        \n",
    "    return(sum(area))\n",
    "\n",
    "\n",
    "def trapezoid(start,end,parts):\n",
    "    f = lambda x: ((x**2)-x+1)\n",
    "    \n",
    "    deltax = (end - start) / parts\n",
    "    resultx = np.linspace(start, end, parts+1)\n",
    "    resulty = f(resultx)\n",
    "    \n",
    "    area = np.empty([parts],float)\n",
    "    \n",
    "    for i in range(parts):\n",
    "        area[i] = (resulty[i] + resulty[i+1]) * deltax/2\n",
    "        \n",
    "    return(sum(area))\n",
    "\n",
    "\n",
    "def simpson(start,end,parts):\n",
    "    f = lambda x: ((x**2)-x+1)\n",
    "    \n",
    "    deltax = (end - start) / parts\n",
    "    resultx = np.linspace(start, end, parts + 1)\n",
    "    resulty = f(resultx)\n",
    "    \n",
    "    area = np.empty([parts],float)\n",
    "    for i in range(parts):\n",
    "        if i == 0 or i == parts:\n",
    "            area[i] = 1/3 * resulty[i] * deltax\n",
    "        elif i % 2 == 0:\n",
    "            area[i] = 2/3 * resulty[i] * deltax\n",
    "        elif i % 2 != 0:\n",
    "            area[i] = 4/3 * resulty[i] * deltax\n",
    "        \n",
    "    return(sum(area))"
   ]
  },
  {
   "cell_type": "code",
   "execution_count": 83,
   "metadata": {},
   "outputs": [
    {
     "data": {
      "text/plain": [
       "7.491004499999999"
      ]
     },
     "execution_count": 83,
     "metadata": {},
     "output_type": "execute_result"
    }
   ],
   "source": [
    "rectangle(0,3,1000)"
   ]
  },
  {
   "cell_type": "code",
   "execution_count": 84,
   "metadata": {},
   "outputs": [
    {
     "data": {
      "text/plain": [
       "7.500450000000001"
      ]
     },
     "execution_count": 84,
     "metadata": {},
     "output_type": "execute_result"
    }
   ],
   "source": [
    "trapezoid(0,3,100)"
   ]
  },
  {
   "cell_type": "code",
   "execution_count": 85,
   "metadata": {},
   "outputs": [
    {
     "data": {
      "text/plain": [
       "7.429999999999997"
      ]
     },
     "execution_count": 85,
     "metadata": {},
     "output_type": "execute_result"
    }
   ],
   "source": [
    "simpson(0,3,100)"
   ]
  },
  {
   "cell_type": "code",
   "execution_count": 86,
   "metadata": {},
   "outputs": [],
   "source": [
    "import numpy as np\n",
    "\n",
    "def rectangle(start,end,parts):\n",
    "    f = lambda x: ((x**4)-x+1)\n",
    "    \n",
    "    deltax = (end - start) / parts\n",
    "    resultx = np.linspace(start, end, parts + 1)\n",
    "    resulty = f(resultx)\n",
    "    \n",
    "    area = np.empty([parts],float)\n",
    "    \n",
    "    for i in range(parts):\n",
    "        area[i] = resulty[i] * deltax \n",
    "        \n",
    "    return(sum(area))\n",
    "\n",
    "def trapezoid(start,end,parts):\n",
    "    f = lambda x: ((x**4)-x+1)\n",
    "    \n",
    "    deltax = (end - start) / parts\n",
    "    resultx = np.linspace(start, end, parts+1)\n",
    "    resulty = f(resultx)\n",
    "    \n",
    "    area = np.empty([parts],float)\n",
    "    \n",
    "    for i in range(parts):\n",
    "        area[i] = (resulty[i] + resulty[i+1]) * deltax/2\n",
    "        \n",
    "    return(sum(area))\n",
    "\n",
    "\n",
    "def simpson(start,end,parts):\n",
    "    f = lambda x: ((x**4)-x+1)\n",
    "    \n",
    "    deltax = (end - start) / parts\n",
    "    resultx = np.linspace(start, end, parts + 1)\n",
    "    resulty = f(resultx)\n",
    "    \n",
    "    area = np.empty([parts],float) \n",
    "    \n",
    "    for i in range(parts):\n",
    "        if i == 0 or i == parts:\n",
    "            area[i] = 1/3 * resulty[i] * deltax\n",
    "        elif i % 2 == 0:\n",
    "            area[i] = 2/3 * resulty[i] * deltax\n",
    "        elif i % 2 != 0:\n",
    "            area[i] = 4/3 * resulty[i] * deltax\n",
    "        \n",
    "    return(sum(area))"
   ]
  },
  {
   "cell_type": "code",
   "execution_count": 87,
   "metadata": {},
   "outputs": [
    {
     "data": {
      "text/plain": [
       "46.98308099999193"
      ]
     },
     "execution_count": 87,
     "metadata": {},
     "output_type": "execute_result"
    }
   ],
   "source": [
    "rectangle(0,3,1000)"
   ]
  },
  {
   "cell_type": "code",
   "execution_count": 88,
   "metadata": {},
   "outputs": [
    {
     "data": {
      "text/plain": [
       "47.108099919"
      ]
     },
     "execution_count": 88,
     "metadata": {},
     "output_type": "execute_result"
    }
   ],
   "source": [
    "trapezoid(0,3,100)"
   ]
  },
  {
   "cell_type": "code",
   "execution_count": 89,
   "metadata": {},
   "outputs": [
    {
     "data": {
      "text/plain": [
       "46.31000032399998"
      ]
     },
     "execution_count": 89,
     "metadata": {},
     "output_type": "execute_result"
    }
   ],
   "source": [
    "simpson(0,3,100)"
   ]
  },
  {
   "cell_type": "code",
   "execution_count": null,
   "metadata": {},
   "outputs": [],
   "source": []
  }
 ],
 "metadata": {
  "kernelspec": {
   "display_name": "Python 3",
   "language": "python",
   "name": "python3"
  },
  "language_info": {
   "codemirror_mode": {
    "name": "ipython",
    "version": 3
   },
   "file_extension": ".py",
   "mimetype": "text/x-python",
   "name": "python",
   "nbconvert_exporter": "python",
   "pygments_lexer": "ipython3",
   "version": "3.7.3"
  }
 },
 "nbformat": 4,
 "nbformat_minor": 2
}
