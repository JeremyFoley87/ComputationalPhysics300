{
 "cells": [
  {
   "cell_type": "code",
   "execution_count": 1,
   "metadata": {},
   "outputs": [],
   "source": [
    "import math"
   ]
  },
  {
   "cell_type": "code",
   "execution_count": 16,
   "metadata": {},
   "outputs": [
    {
     "name": "stdout",
     "output_type": "stream",
     "text": [
      "Enter a value for N: 5\n",
      "Enter a value for q: 6\n",
      "Einstein Multiplicity 210.0\n"
     ]
    }
   ],
   "source": [
    "#Multiplicity calculation\n",
    "def factor(x):\n",
    "    if x == 0 or x == 1:\n",
    "        return 1\n",
    "    else: \n",
    "        total = 1\n",
    "        for y in range(2,x+1):\n",
    "            total *= y\n",
    "        return total  \n",
    "    \n",
    "def Multiplicity(N,q):\n",
    "    return factor(q + N - 1)/(factor(q)*factor(N-1))\n",
    "\n",
    "N = int(input(\"Enter a value for N: \"))\n",
    "q = int(input(\"Enter a value for q: \"))\n",
    "\n",
    "print(\"Einstein Multiplicity\", Multiplicity(N,q))\n",
    "    "
   ]
  },
  {
   "cell_type": "code",
   "execution_count": null,
   "metadata": {},
   "outputs": [],
   "source": []
  }
 ],
 "metadata": {
  "kernelspec": {
   "display_name": "Python 3",
   "language": "python",
   "name": "python3"
  },
  "language_info": {
   "codemirror_mode": {
    "name": "ipython",
    "version": 3
   },
   "file_extension": ".py",
   "mimetype": "text/x-python",
   "name": "python",
   "nbconvert_exporter": "python",
   "pygments_lexer": "ipython3",
   "version": "3.7.3"
  }
 },
 "nbformat": 4,
 "nbformat_minor": 2
}
